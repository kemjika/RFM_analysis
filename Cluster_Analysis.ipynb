{
 "cells": [
  {
   "cell_type": "markdown",
   "metadata": {},
   "source": [
    "\n",
    "In this project, we would focus on combining RFM (Recency Frequency Monetary) Analysis with Clustering analysis to to identify different market segments .  \n",
    "\n",
    "\n",
    "# Business Problem \n",
    "-------\n",
    "\n",
    "Customer Analytics is important to run a successful business. Sales and marketing resources are finite and expensive, therefore it is important to answer these questions when developing a marketing strategy.\n",
    "\n",
    "* Who are our most/least valuable customers?\n",
    "* How can we acquire new customers that resemble our most valuable?\n",
    "\n",
    "The Recency-Frequency-Monetary value segmentation has been around for a while now and provides a pretty simple but effective way to segment customers.The project on [RFM analysis](https://master-of-business-analytics.github.io/Website/RFM_Analysis.html) provided a basic model that allows the business to segment its customers based on three criteria based on an existing customer’s transaction history; recency of Customer's Last purchase, frequency of purchases and total amount spent, which is referred to as monetary. \n",
    "However, A RFM model can be used in conjunction with certain predictive models to gain even further insight into customer behavior. In this project, we analyze the K means cluster and  see how it enhance results from RFM analysis.\n",
    "\n",
    "Here is a high level flow of the analysis.\n",
    "\n",
    "* Calculate R, F and M parameters\n",
    "* Apply k-means clustering algorithm on these parameters to group similar customers.\n",
    "\n",
    "K-means is a popular approach for classification because of simplicity of implementation and been widely used in market segmentation. The number of clusters can be determined by using the elbow method\n"
   ]
  },
  {
   "cell_type": "markdown",
   "metadata": {},
   "source": [
    "## Data Set\n",
    "\n",
    "There are  eight variables in the data set:\n",
    "\n",
    "1. InvoiceNo: Invoice number,  A 6-digit integral number uniquely assigned to each transaction.\n",
    "2. StockCode: Product code, a 5-digit integral number uniquely assigned to each distinct product.\n",
    "3. Description: Product name\n",
    "4. Quantity: The quantities of each product (item) per transaction.\n",
    "5. InvoiceDate: Invoice Date and time. Numeric, the day and time when each transaction was generated.\n",
    "6. UnitPrice: Unit price. Numeric, Product price per unit in sterling.\n",
    "7. CustomerID: Customer number, a 5-digit integral number uniquely assigned to each customer.\n",
    "8. Country "
   ]
  },
  {
   "cell_type": "code",
   "execution_count": 19,
   "metadata": {},
   "outputs": [],
   "source": [
    "import pandas as pd\n",
    "import numpy as np\n",
    "import seaborn as sns\n",
    "from datetime import timedelta\n",
    "import numpy as np\n",
    "import matplotlib.pyplot as plt\n",
    "import warnings\n",
    "from sklearn.cluster import KMeans\n",
    "#ignore warnings\n",
    "warnings.filterwarnings('ignore')\n",
    "\n",
    "pd.set_option(\"display.max_columns\",None);\n",
    "pd.set_option(\"display.max_rows\",None);\n",
    "\n",
    "#load data\n",
    "url = 'https://raw.githubusercontent.com/Master-of-Business-Analytics/Project_06_RFM_Analysis/master/data_1.csv'\n",
    "df = pd.read_csv(url, error_bad_lines=False,encoding= 'unicode_escape')\n",
    "\n",
    "\n"
   ]
  },
  {
   "cell_type": "code",
   "execution_count": 20,
   "metadata": {},
   "outputs": [
    {
     "data": {
      "text/html": [
       "<div>\n",
       "<style scoped>\n",
       "    .dataframe tbody tr th:only-of-type {\n",
       "        vertical-align: middle;\n",
       "    }\n",
       "\n",
       "    .dataframe tbody tr th {\n",
       "        vertical-align: top;\n",
       "    }\n",
       "\n",
       "    .dataframe thead th {\n",
       "        text-align: right;\n",
       "    }\n",
       "</style>\n",
       "<table border=\"1\" class=\"dataframe\">\n",
       "  <thead>\n",
       "    <tr style=\"text-align: right;\">\n",
       "      <th></th>\n",
       "      <th>InvoiceNo</th>\n",
       "      <th>StockCode</th>\n",
       "      <th>Description</th>\n",
       "      <th>Quantity</th>\n",
       "      <th>InvoiceDate</th>\n",
       "      <th>UnitPrice</th>\n",
       "      <th>CustomerID</th>\n",
       "      <th>Country</th>\n",
       "    </tr>\n",
       "  </thead>\n",
       "  <tbody>\n",
       "    <tr>\n",
       "      <th>0</th>\n",
       "      <td>540558</td>\n",
       "      <td>21258</td>\n",
       "      <td>?</td>\n",
       "      <td>-29</td>\n",
       "      <td>2011-01-10 10:04:00</td>\n",
       "      <td>0.00</td>\n",
       "      <td>NaN</td>\n",
       "      <td>United Kingdom</td>\n",
       "    </tr>\n",
       "    <tr>\n",
       "      <th>1</th>\n",
       "      <td>540560</td>\n",
       "      <td>21589</td>\n",
       "      <td>NaN</td>\n",
       "      <td>-14</td>\n",
       "      <td>2011-01-10 10:08:00</td>\n",
       "      <td>0.00</td>\n",
       "      <td>NaN</td>\n",
       "      <td>United Kingdom</td>\n",
       "    </tr>\n",
       "    <tr>\n",
       "      <th>2</th>\n",
       "      <td>540561</td>\n",
       "      <td>22343</td>\n",
       "      <td>PARTY PIZZA DISH RED RETROSPOT</td>\n",
       "      <td>24</td>\n",
       "      <td>2011-01-10 10:32:00</td>\n",
       "      <td>0.21</td>\n",
       "      <td>13004.0</td>\n",
       "      <td>United Kingdom</td>\n",
       "    </tr>\n",
       "    <tr>\n",
       "      <th>3</th>\n",
       "      <td>540561</td>\n",
       "      <td>22344</td>\n",
       "      <td>PARTY PIZZA DISH PINK POLKADOT</td>\n",
       "      <td>24</td>\n",
       "      <td>2011-01-10 10:32:00</td>\n",
       "      <td>0.21</td>\n",
       "      <td>13004.0</td>\n",
       "      <td>United Kingdom</td>\n",
       "    </tr>\n",
       "    <tr>\n",
       "      <th>4</th>\n",
       "      <td>540561</td>\n",
       "      <td>47504H</td>\n",
       "      <td>ENGLISH ROSE SPIRIT LEVEL</td>\n",
       "      <td>24</td>\n",
       "      <td>2011-01-10 10:32:00</td>\n",
       "      <td>0.85</td>\n",
       "      <td>13004.0</td>\n",
       "      <td>United Kingdom</td>\n",
       "    </tr>\n",
       "  </tbody>\n",
       "</table>\n",
       "</div>"
      ],
      "text/plain": [
       "  InvoiceNo StockCode                     Description  Quantity  \\\n",
       "0    540558     21258                               ?       -29   \n",
       "1    540560     21589                             NaN       -14   \n",
       "2    540561     22343  PARTY PIZZA DISH RED RETROSPOT        24   \n",
       "3    540561     22344  PARTY PIZZA DISH PINK POLKADOT        24   \n",
       "4    540561    47504H      ENGLISH ROSE SPIRIT LEVEL         24   \n",
       "\n",
       "           InvoiceDate  UnitPrice  CustomerID         Country  \n",
       "0  2011-01-10 10:04:00       0.00         NaN  United Kingdom  \n",
       "1  2011-01-10 10:08:00       0.00         NaN  United Kingdom  \n",
       "2  2011-01-10 10:32:00       0.21     13004.0  United Kingdom  \n",
       "3  2011-01-10 10:32:00       0.21     13004.0  United Kingdom  \n",
       "4  2011-01-10 10:32:00       0.85     13004.0  United Kingdom  "
      ]
     },
     "execution_count": 20,
     "metadata": {},
     "output_type": "execute_result"
    }
   ],
   "source": [
    "#summary of dataset\n",
    "df.head(5)"
   ]
  },
  {
   "cell_type": "markdown",
   "metadata": {},
   "source": [
    "# Data cleaning \n",
    "\n",
    "The dataset seemed relatively clean at first glance, but it was riddled with errors. There were quite a number of these positive/negative offsetting entries throughout the dataset, plus other apparent errors such as customers with negative transactions. More information on data cleaning can be found on the [data cleaning project](https://master-of-business-analytics.github.io/Website/Data_Cleaning.html).\n",
    "\n",
    "The first step in cleaning the dataset is to check if there are any missing values and where the missing values are located."
   ]
  },
  {
   "cell_type": "code",
   "execution_count": 21,
   "metadata": {},
   "outputs": [
    {
     "data": {
      "text/plain": [
       "<matplotlib.axes._subplots.AxesSubplot at 0x1a26fd03d0>"
      ]
     },
     "execution_count": 21,
     "metadata": {},
     "output_type": "execute_result"
    },
    {
     "data": {
      "image/png": "[encoded data removed]",
      "text/plain": [
       "<Figure size 432x288 with 1 Axes>"
      ]
     },
     "metadata": {
      "needs_background": "light"
     },
     "output_type": "display_data"
    }
   ],
   "source": [
    "\n",
    "#Visualize the number of null values in the dataframe for each column\n",
    "df.isnull().sum().plot(kind='bar')"
   ]
  },
  {
   "cell_type": "markdown",
   "metadata": {},
   "source": [
    "The bar chart above shows that NaN values are located at the description and customer ID column. The purpose of this evaluating is current customer segmentation therefore transactions without customer ID do not provide any value and are dropped from the data frame below.  "
   ]
  },
  {
   "cell_type": "code",
   "execution_count": 22,
   "metadata": {},
   "outputs": [
    {
     "data": {
      "text/plain": [
       "InvoiceNo      0\n",
       "StockCode      0\n",
       "Description    0\n",
       "Quantity       0\n",
       "InvoiceDate    0\n",
       "UnitPrice      0\n",
       "CustomerID     0\n",
       "Country        0\n",
       "dtype: int64"
      ]
     },
     "execution_count": 22,
     "metadata": {},
     "output_type": "execute_result"
    }
   ],
   "source": [
    "#Eliminating rows with NA\n",
    "df=df.dropna(subset=['CustomerID'])\n",
    "\n",
    "#NA status across columns\n",
    "df.isnull().sum()"
   ]
  },
  {
   "cell_type": "code",
   "execution_count": 23,
   "metadata": {},
   "outputs": [
    {
     "data": {
      "text/html": [
       "<div>\n",
       "<style scoped>\n",
       "    .dataframe tbody tr th:only-of-type {\n",
       "        vertical-align: middle;\n",
       "    }\n",
       "\n",
       "    .dataframe tbody tr th {\n",
       "        vertical-align: top;\n",
       "    }\n",
       "\n",
       "    .dataframe thead th {\n",
       "        text-align: right;\n",
       "    }\n",
       "</style>\n",
       "<table border=\"1\" class=\"dataframe\">\n",
       "  <thead>\n",
       "    <tr style=\"text-align: right;\">\n",
       "      <th></th>\n",
       "      <th>Quantity</th>\n",
       "      <th>UnitPrice</th>\n",
       "      <th>CustomerID</th>\n",
       "    </tr>\n",
       "  </thead>\n",
       "  <tbody>\n",
       "    <tr>\n",
       "      <th>count</th>\n",
       "      <td>60426.000000</td>\n",
       "      <td>60426.000000</td>\n",
       "      <td>60426.000000</td>\n",
       "    </tr>\n",
       "    <tr>\n",
       "      <th>mean</th>\n",
       "      <td>11.121868</td>\n",
       "      <td>3.134313</td>\n",
       "      <td>15500.429368</td>\n",
       "    </tr>\n",
       "    <tr>\n",
       "      <th>std</th>\n",
       "      <td>429.524058</td>\n",
       "      <td>6.663764</td>\n",
       "      <td>1597.854971</td>\n",
       "    </tr>\n",
       "    <tr>\n",
       "      <th>min</th>\n",
       "      <td>-74215.000000</td>\n",
       "      <td>0.000000</td>\n",
       "      <td>12346.000000</td>\n",
       "    </tr>\n",
       "    <tr>\n",
       "      <th>25%</th>\n",
       "      <td>2.000000</td>\n",
       "      <td>1.250000</td>\n",
       "      <td>14180.000000</td>\n",
       "    </tr>\n",
       "    <tr>\n",
       "      <th>50%</th>\n",
       "      <td>4.000000</td>\n",
       "      <td>1.950000</td>\n",
       "      <td>15408.000000</td>\n",
       "    </tr>\n",
       "    <tr>\n",
       "      <th>75%</th>\n",
       "      <td>12.000000</td>\n",
       "      <td>3.750000</td>\n",
       "      <td>16931.000000</td>\n",
       "    </tr>\n",
       "    <tr>\n",
       "      <th>max</th>\n",
       "      <td>74215.000000</td>\n",
       "      <td>856.480000</td>\n",
       "      <td>18283.000000</td>\n",
       "    </tr>\n",
       "  </tbody>\n",
       "</table>\n",
       "</div>"
      ],
      "text/plain": [
       "           Quantity     UnitPrice    CustomerID\n",
       "count  60426.000000  60426.000000  60426.000000\n",
       "mean      11.121868      3.134313  15500.429368\n",
       "std      429.524058      6.663764   1597.854971\n",
       "min   -74215.000000      0.000000  12346.000000\n",
       "25%        2.000000      1.250000  14180.000000\n",
       "50%        4.000000      1.950000  15408.000000\n",
       "75%       12.000000      3.750000  16931.000000\n",
       "max    74215.000000    856.480000  18283.000000"
      ]
     },
     "execution_count": 23,
     "metadata": {},
     "output_type": "execute_result"
    }
   ],
   "source": [
    "df.describe()"
   ]
  },
  {
   "cell_type": "markdown",
   "metadata": {},
   "source": [
    "The summary table shows that very low negative values under the quantity values. Further analysis show that the minimum and maximum values have the same absolute values. This could be as a result of a mistake in data entry. There are two ways data input error is usually corrected; entering a value with the opposite sign to nullify the previous mistake or entering the difference between actual actual transaction and previous entry. \n",
    "\n",
    "The first instance corrected by:\n",
    "1. Confirming that both transactions are for one customer and drop the rows if true. \n",
    "2. Repeating the previous step until the the minimum and maximum quantity values do not have the same absolute values."
   ]
  },
  {
   "cell_type": "code",
   "execution_count": 24,
   "metadata": {},
   "outputs": [
    {
     "data": {
      "text/html": [
       "<div>\n",
       "<style scoped>\n",
       "    .dataframe tbody tr th:only-of-type {\n",
       "        vertical-align: middle;\n",
       "    }\n",
       "\n",
       "    .dataframe tbody tr th {\n",
       "        vertical-align: top;\n",
       "    }\n",
       "\n",
       "    .dataframe thead th {\n",
       "        text-align: right;\n",
       "    }\n",
       "</style>\n",
       "<table border=\"1\" class=\"dataframe\">\n",
       "  <thead>\n",
       "    <tr style=\"text-align: right;\">\n",
       "      <th></th>\n",
       "      <th>InvoiceDate</th>\n",
       "      <th>CustomerID</th>\n",
       "      <th>StockCode</th>\n",
       "      <th>UnitPrice</th>\n",
       "      <th>Quantity</th>\n",
       "    </tr>\n",
       "  </thead>\n",
       "  <tbody>\n",
       "    <tr>\n",
       "      <th>2</th>\n",
       "      <td>2011-01-10 10:32:00</td>\n",
       "      <td>13004.0</td>\n",
       "      <td>22343</td>\n",
       "      <td>0.21</td>\n",
       "      <td>24</td>\n",
       "    </tr>\n",
       "    <tr>\n",
       "      <th>3</th>\n",
       "      <td>2011-01-10 10:32:00</td>\n",
       "      <td>13004.0</td>\n",
       "      <td>22344</td>\n",
       "      <td>0.21</td>\n",
       "      <td>24</td>\n",
       "    </tr>\n",
       "    <tr>\n",
       "      <th>4</th>\n",
       "      <td>2011-01-10 10:32:00</td>\n",
       "      <td>13004.0</td>\n",
       "      <td>47504H</td>\n",
       "      <td>0.85</td>\n",
       "      <td>24</td>\n",
       "    </tr>\n",
       "    <tr>\n",
       "      <th>5</th>\n",
       "      <td>2011-01-10 10:32:00</td>\n",
       "      <td>13004.0</td>\n",
       "      <td>84509G</td>\n",
       "      <td>1.25</td>\n",
       "      <td>12</td>\n",
       "    </tr>\n",
       "    <tr>\n",
       "      <th>6</th>\n",
       "      <td>2011-01-10 10:32:00</td>\n",
       "      <td>13004.0</td>\n",
       "      <td>22720</td>\n",
       "      <td>4.95</td>\n",
       "      <td>3</td>\n",
       "    </tr>\n",
       "  </tbody>\n",
       "</table>\n",
       "</div>"
      ],
      "text/plain": [
       "           InvoiceDate  CustomerID StockCode  UnitPrice  Quantity\n",
       "2  2011-01-10 10:32:00     13004.0     22343       0.21        24\n",
       "3  2011-01-10 10:32:00     13004.0     22344       0.21        24\n",
       "4  2011-01-10 10:32:00     13004.0    47504H       0.85        24\n",
       "5  2011-01-10 10:32:00     13004.0    84509G       1.25        12\n",
       "6  2011-01-10 10:32:00     13004.0     22720       4.95         3"
      ]
     },
     "execution_count": 24,
     "metadata": {},
     "output_type": "execute_result"
    }
   ],
   "source": [
    "#First of all we select relevant columns\n",
    "df2 = df[['InvoiceDate',\"CustomerID\",'StockCode','UnitPrice','Quantity']]\n",
    "#snapshoot of new dataframe\n",
    "df2.head()"
   ]
  },
  {
   "cell_type": "code",
   "execution_count": 25,
   "metadata": {},
   "outputs": [
    {
     "data": {
      "text/html": [
       "<div>\n",
       "<style scoped>\n",
       "    .dataframe tbody tr th:only-of-type {\n",
       "        vertical-align: middle;\n",
       "    }\n",
       "\n",
       "    .dataframe tbody tr th {\n",
       "        vertical-align: top;\n",
       "    }\n",
       "\n",
       "    .dataframe thead th {\n",
       "        text-align: right;\n",
       "    }\n",
       "</style>\n",
       "<table border=\"1\" class=\"dataframe\">\n",
       "  <thead>\n",
       "    <tr style=\"text-align: right;\">\n",
       "      <th></th>\n",
       "      <th>InvoiceDate</th>\n",
       "      <th>CustomerID</th>\n",
       "      <th>StockCode</th>\n",
       "      <th>UnitPrice</th>\n",
       "      <th>Quantity</th>\n",
       "    </tr>\n",
       "  </thead>\n",
       "  <tbody>\n",
       "    <tr>\n",
       "      <th>10537</th>\n",
       "      <td>2011-01-18 10:01:00</td>\n",
       "      <td>12346.0</td>\n",
       "      <td>23166</td>\n",
       "      <td>1.04</td>\n",
       "      <td>74215</td>\n",
       "    </tr>\n",
       "    <tr>\n",
       "      <th>10542</th>\n",
       "      <td>2011-01-18 10:17:00</td>\n",
       "      <td>12346.0</td>\n",
       "      <td>23166</td>\n",
       "      <td>1.04</td>\n",
       "      <td>-74215</td>\n",
       "    </tr>\n",
       "  </tbody>\n",
       "</table>\n",
       "</div>"
      ],
      "text/plain": [
       "               InvoiceDate  CustomerID StockCode  UnitPrice  Quantity\n",
       "10537  2011-01-18 10:01:00     12346.0     23166       1.04     74215\n",
       "10542  2011-01-18 10:17:00     12346.0     23166       1.04    -74215"
      ]
     },
     "execution_count": 25,
     "metadata": {},
     "output_type": "execute_result"
    }
   ],
   "source": [
    "#row data of maximum and minimum data\n",
    "df2.loc[[df2['Quantity'].idxmax(),df['Quantity'].idxmin()]]"
   ]
  },
  {
   "cell_type": "code",
   "execution_count": 26,
   "metadata": {},
   "outputs": [
    {
     "data": {
      "text/html": [
       "<div>\n",
       "<style scoped>\n",
       "    .dataframe tbody tr th:only-of-type {\n",
       "        vertical-align: middle;\n",
       "    }\n",
       "\n",
       "    .dataframe tbody tr th {\n",
       "        vertical-align: top;\n",
       "    }\n",
       "\n",
       "    .dataframe thead th {\n",
       "        text-align: right;\n",
       "    }\n",
       "</style>\n",
       "<table border=\"1\" class=\"dataframe\">\n",
       "  <thead>\n",
       "    <tr style=\"text-align: right;\">\n",
       "      <th></th>\n",
       "      <th>CustomerID</th>\n",
       "      <th>UnitPrice</th>\n",
       "      <th>Quantity</th>\n",
       "    </tr>\n",
       "  </thead>\n",
       "  <tbody>\n",
       "    <tr>\n",
       "      <th>count</th>\n",
       "      <td>60424.000000</td>\n",
       "      <td>60424.000000</td>\n",
       "      <td>60424.000000</td>\n",
       "    </tr>\n",
       "    <tr>\n",
       "      <th>mean</th>\n",
       "      <td>15500.533778</td>\n",
       "      <td>3.134383</td>\n",
       "      <td>11.122236</td>\n",
       "    </tr>\n",
       "    <tr>\n",
       "      <th>std</th>\n",
       "      <td>1597.778348</td>\n",
       "      <td>6.663863</td>\n",
       "      <td>46.762862</td>\n",
       "    </tr>\n",
       "    <tr>\n",
       "      <th>min</th>\n",
       "      <td>12747.000000</td>\n",
       "      <td>0.000000</td>\n",
       "      <td>-720.000000</td>\n",
       "    </tr>\n",
       "    <tr>\n",
       "      <th>25%</th>\n",
       "      <td>14180.000000</td>\n",
       "      <td>1.250000</td>\n",
       "      <td>2.000000</td>\n",
       "    </tr>\n",
       "    <tr>\n",
       "      <th>50%</th>\n",
       "      <td>15408.000000</td>\n",
       "      <td>1.950000</td>\n",
       "      <td>4.000000</td>\n",
       "    </tr>\n",
       "    <tr>\n",
       "      <th>75%</th>\n",
       "      <td>16931.000000</td>\n",
       "      <td>3.750000</td>\n",
       "      <td>12.000000</td>\n",
       "    </tr>\n",
       "    <tr>\n",
       "      <th>max</th>\n",
       "      <td>18283.000000</td>\n",
       "      <td>856.480000</td>\n",
       "      <td>3906.000000</td>\n",
       "    </tr>\n",
       "  </tbody>\n",
       "</table>\n",
       "</div>"
      ],
      "text/plain": [
       "         CustomerID     UnitPrice      Quantity\n",
       "count  60424.000000  60424.000000  60424.000000\n",
       "mean   15500.533778      3.134383     11.122236\n",
       "std     1597.778348      6.663863     46.762862\n",
       "min    12747.000000      0.000000   -720.000000\n",
       "25%    14180.000000      1.250000      2.000000\n",
       "50%    15408.000000      1.950000      4.000000\n",
       "75%    16931.000000      3.750000     12.000000\n",
       "max    18283.000000    856.480000   3906.000000"
      ]
     },
     "execution_count": 26,
     "metadata": {},
     "output_type": "execute_result"
    }
   ],
   "source": [
    "#remove containing row minimum and maximum quantity as it is basically a duplicate\n",
    "df2.drop(index=[df2['Quantity'].idxmax(), df2['Quantity'].idxmin()], inplace=True)\n",
    "\n",
    "#chack minimum and maximum quantity \n",
    "df2.describe()"
   ]
  },
  {
   "cell_type": "markdown",
   "metadata": {},
   "source": [
    "<b> Note that the Minimum quantity and Maximum quantity do not have the same absolute values. However, if this was not the case, the above step is repeated</b>\n",
    "\n",
    "The next step is to convert the date column to a date format and add the total sales column"
   ]
  },
  {
   "cell_type": "code",
   "execution_count": 29,
   "metadata": {},
   "outputs": [
    {
     "data": {
      "text/html": [
       "<div>\n",
       "<style scoped>\n",
       "    .dataframe tbody tr th:only-of-type {\n",
       "        vertical-align: middle;\n",
       "    }\n",
       "\n",
       "    .dataframe tbody tr th {\n",
       "        vertical-align: top;\n",
       "    }\n",
       "\n",
       "    .dataframe thead th {\n",
       "        text-align: right;\n",
       "    }\n",
       "</style>\n",
       "<table border=\"1\" class=\"dataframe\">\n",
       "  <thead>\n",
       "    <tr style=\"text-align: right;\">\n",
       "      <th></th>\n",
       "      <th>InvoiceDate</th>\n",
       "      <th>CustomerID</th>\n",
       "      <th>StockCode</th>\n",
       "      <th>UnitPrice</th>\n",
       "      <th>Quantity</th>\n",
       "      <th>Totalsum</th>\n",
       "    </tr>\n",
       "  </thead>\n",
       "  <tbody>\n",
       "    <tr>\n",
       "      <th>2</th>\n",
       "      <td>2011-01-10</td>\n",
       "      <td>13004.0</td>\n",
       "      <td>22343</td>\n",
       "      <td>0.21</td>\n",
       "      <td>24</td>\n",
       "      <td>5.04</td>\n",
       "    </tr>\n",
       "    <tr>\n",
       "      <th>3</th>\n",
       "      <td>2011-01-10</td>\n",
       "      <td>13004.0</td>\n",
       "      <td>22344</td>\n",
       "      <td>0.21</td>\n",
       "      <td>24</td>\n",
       "      <td>5.04</td>\n",
       "    </tr>\n",
       "    <tr>\n",
       "      <th>4</th>\n",
       "      <td>2011-01-10</td>\n",
       "      <td>13004.0</td>\n",
       "      <td>47504H</td>\n",
       "      <td>0.85</td>\n",
       "      <td>24</td>\n",
       "      <td>20.40</td>\n",
       "    </tr>\n",
       "    <tr>\n",
       "      <th>5</th>\n",
       "      <td>2011-01-10</td>\n",
       "      <td>13004.0</td>\n",
       "      <td>84509G</td>\n",
       "      <td>1.25</td>\n",
       "      <td>12</td>\n",
       "      <td>15.00</td>\n",
       "    </tr>\n",
       "    <tr>\n",
       "      <th>6</th>\n",
       "      <td>2011-01-10</td>\n",
       "      <td>13004.0</td>\n",
       "      <td>22720</td>\n",
       "      <td>4.95</td>\n",
       "      <td>3</td>\n",
       "      <td>14.85</td>\n",
       "    </tr>\n",
       "  </tbody>\n",
       "</table>\n",
       "</div>"
      ],
      "text/plain": [
       "  InvoiceDate  CustomerID StockCode  UnitPrice  Quantity  Totalsum\n",
       "2  2011-01-10     13004.0     22343       0.21        24      5.04\n",
       "3  2011-01-10     13004.0     22344       0.21        24      5.04\n",
       "4  2011-01-10     13004.0    47504H       0.85        24     20.40\n",
       "5  2011-01-10     13004.0    84509G       1.25        12     15.00\n",
       "6  2011-01-10     13004.0     22720       4.95         3     14.85"
      ]
     },
     "execution_count": 29,
     "metadata": {},
     "output_type": "execute_result"
    }
   ],
   "source": [
    "# Convert InvoiceDate from object to datetime format\n",
    "df2['InvoiceDate'] = pd.to_datetime(df2['InvoiceDate'])\n",
    "\n",
    "#remove minutes and seconds from date\n",
    "df2['InvoiceDate'] = df2.InvoiceDate.dt.date\n",
    "\n",
    "                        \n",
    "#creating a total sales column\n",
    "df2[\"Totalsum\"] = df2['Quantity'] * df2['UnitPrice']\n",
    "\n",
    "df2.head(5)"
   ]
  },
  {
   "cell_type": "code",
   "execution_count": 30,
   "metadata": {},
   "outputs": [
    {
     "name": "stdout",
     "output_type": "stream",
     "text": [
      "60,424 rows; 6 columns\n",
      "0 transactions don't have a customer id\n",
      "Transactions timeframe from 2011-01-04 to 2011-03-30\n"
     ]
    }
   ],
   "source": [
    "# information about the data set\n",
    "print('{:,} rows; {:,} columns'\n",
    "      .format(df2.shape[0], df2.shape[1]))\n",
    "print('{:,} transactions don\\'t have a customer id'\n",
    "      .format(df2[df2.CustomerID.isnull()].shape[0]))\n",
    "print('Transactions timeframe from {} to {}'.format(df2['InvoiceDate'].min(),\n",
    "                                    df2['InvoiceDate'].max()))"
   ]
  },
  {
   "cell_type": "markdown",
   "metadata": {},
   "source": [
    "# RFM model\n",
    "\n",
    "The RFM model describes current customers historical purchase behavior using 3 feature:\n",
    "\n",
    "* When did the customer make their last purchase?\n",
    "* How often does the customer make a purchase?\n",
    "*  How much money does the customer spend?\n",
    "\n",
    "The general assumption with the RFM model is that Customers that purchase in shorter time intervals in\n",
    "greater volumes at higher prices are more like to respond positively to future engagement and product offers.  \n",
    "The customer records are grouped by recency of their purchase, the frequency by their quantity, and the monetary value of the purchases. "
   ]
  },
  {
   "cell_type": "code",
   "execution_count": 32,
   "metadata": {},
   "outputs": [
    {
     "data": {
      "text/html": [
       "<div>\n",
       "<style scoped>\n",
       "    .dataframe tbody tr th:only-of-type {\n",
       "        vertical-align: middle;\n",
       "    }\n",
       "\n",
       "    .dataframe tbody tr th {\n",
       "        vertical-align: top;\n",
       "    }\n",
       "\n",
       "    .dataframe thead th {\n",
       "        text-align: right;\n",
       "    }\n",
       "</style>\n",
       "<table border=\"1\" class=\"dataframe\">\n",
       "  <thead>\n",
       "    <tr style=\"text-align: right;\">\n",
       "      <th></th>\n",
       "      <th>Recency</th>\n",
       "      <th>Frequency</th>\n",
       "      <th>Monetary</th>\n",
       "    </tr>\n",
       "    <tr>\n",
       "      <th>CustomerID</th>\n",
       "      <th></th>\n",
       "      <th></th>\n",
       "      <th></th>\n",
       "    </tr>\n",
       "  </thead>\n",
       "  <tbody>\n",
       "    <tr>\n",
       "      <th>12747.0</th>\n",
       "      <td>30</td>\n",
       "      <td>17.0</td>\n",
       "      <td>613.82</td>\n",
       "    </tr>\n",
       "    <tr>\n",
       "      <th>12748.0</th>\n",
       "      <td>6</td>\n",
       "      <td>337.0</td>\n",
       "      <td>1820.35</td>\n",
       "    </tr>\n",
       "    <tr>\n",
       "      <th>12820.0</th>\n",
       "      <td>73</td>\n",
       "      <td>11.0</td>\n",
       "      <td>170.46</td>\n",
       "    </tr>\n",
       "    <tr>\n",
       "      <th>12823.0</th>\n",
       "      <td>1</td>\n",
       "      <td>3.0</td>\n",
       "      <td>994.50</td>\n",
       "    </tr>\n",
       "    <tr>\n",
       "      <th>12826.0</th>\n",
       "      <td>63</td>\n",
       "      <td>40.0</td>\n",
       "      <td>542.10</td>\n",
       "    </tr>\n",
       "  </tbody>\n",
       "</table>\n",
       "</div>"
      ],
      "text/plain": [
       "            Recency  Frequency  Monetary\n",
       "CustomerID                              \n",
       "12747.0          30       17.0    613.82\n",
       "12748.0           6      337.0   1820.35\n",
       "12820.0          73       11.0    170.46\n",
       "12823.0           1        3.0    994.50\n",
       "12826.0          63       40.0    542.10"
      ]
     },
     "execution_count": 32,
     "metadata": {},
     "output_type": "execute_result"
    }
   ],
   "source": [
    "# create a table that aggregates the transactions by customer id to \n",
    "# obtain recency score, frequency of purchase and monetary value\n",
    "\n",
    "\n",
    "# set current date as most recent date plus one day\n",
    "#df2['snapshot'] = df2['InvoiceDate'] + timedelta(days=1)  \n",
    "\n",
    "#group customers by their most recent purchase\n",
    "snapshot_date = df2['InvoiceDate'].max() + timedelta(days=1)  \n",
    "\n",
    "#creat recency table by comparing most recent transaction to snapshot date by customer ID\n",
    "rec_df = snapshot_date-df2.groupby(\"CustomerID\").agg({\"InvoiceDate\":max}) \n",
    "\n",
    "#renaming column names\n",
    "rec_df.rename(columns={\"InvoiceDate\": \"Recency\"}, inplace=True)#rename column\n",
    "rec_df=rec_df[\"Recency\"].apply(lambda x: x.days) #extracting number of days only\n",
    "\n",
    "#creating frequency and monetary table by grouping number of purchases and total money spent by customer ID\n",
    "fmTable = df2.groupby('CustomerID').agg({'CustomerID': lambda x: len(x),               # Frequency\n",
    "                                        'Totalsum': lambda x: x.sum()})          # Monetary Value\n",
    "#renaming column names\n",
    "fmTable.rename(columns={\n",
    "                         'CustomerID': 'Frequency', \n",
    "                         'Totalsum': 'Monetary'}, inplace=True)\n",
    "\n",
    "#combining the fm table and the recency table\n",
    "\n",
    "rfm_df = pd.concat([rec_df,fmTable],axis=1)\n",
    "rfm_df.head()\n"
   ]
  },
  {
   "cell_type": "markdown",
   "metadata": {},
   "source": [
    "# Cluster Analysis \n",
    "Clustering is the process of dividing the entire data into groups (also known as clusters) based on the patterns in the data. The k-means clustering technique is an algorithm that tries to minimize the distance of the points in a cluster with their centroid. There are two steps in cluster analysis:\n",
    "\n",
    "1. Finding the optimal number of clusters: the number of cluster values where this decrease in inertia value becomes constant can be chosen as the right number of clusters for our data.\n",
    "\n",
    "2. Fit to kmeans model\n",
    " \n",
    "Looking at the rfm data table above,  there is a lot of variation in the magnitude of the data. Since K-Means is a distance-based algorithm, this difference of magnitude can create a problem, therefore all the variables are standardized to the same magnitude using the scaler function."
   ]
  },
  {
   "cell_type": "code",
   "execution_count": 39,
   "metadata": {},
   "outputs": [],
   "source": [
    "\n",
    "\n",
    "# --Calculate R and F groups--\n",
    "rfm_df1= rfm_df.copy()\n",
    "\n",
    "# Create labels for Recency and Frequency and MonetaryValue\n",
    "r_labels = range(4, 0, -1) #[4,3,2,1] \n",
    "f_labels = range(1, 5)   #[1,2,3,4]\n",
    "#m_labels = range(1, 5)\n",
    "\n",
    "# Assign these labels to 4 equal percentile groups \n",
    "r_groups = pd.qcut(rfm_df1['Recency'], q=4, labels=r_labels)\n",
    "# Assign these labels to1111 4 equal percentile groups \n",
    "f_groups = pd.qcut(rfm_df1['Frequency'], q=4, labels=f_labels)\n",
    "\n",
    "# Assign these labels to three equal percentile groups \n",
    "#m_groups = pd.qcut(rfm_df1['Monetary'], q=4, labels=m_labels)\n",
    "\n",
    "\n",
    "\n",
    "# Create new columns R_score, M_score and F_score  \n",
    "#rfm_df1 = rfm_df1.assign(R_score = r_groups.values, F_score = f_groups.values, M_score = m_groups.values)\n",
    "#rfm_df1 = rfm_df1.assign(R_score = r_groups.values, F_score = f_groups.values)\n",
    "#rfm_df1 = rfm_df1[['R_score','F_score','M_score']]\n",
    "#rfm_df1 = rfm_df1[['R_score','F_score']]\n",
    "#rfm_df1.head()"
   ]
  },
  {
   "cell_type": "code",
   "execution_count": 33,
   "metadata": {},
   "outputs": [],
   "source": [
    "# standardizing the data\n",
    "from sklearn.preprocessing import StandardScaler\n",
    "scaler = StandardScaler()\n",
    "data_scaled = scaler.fit_transform(rfm_df)\n"
   ]
  },
  {
   "cell_type": "code",
   "execution_count": 35,
   "metadata": {},
   "outputs": [
    {
     "data": {
      "text/plain": [
       "Text(0.5, 1.0, 'Elbow Curve')"
      ]
     },
     "execution_count": 35,
     "metadata": {},
     "output_type": "execute_result"
    },
    {
     "data": {
      "image/png": "[encoded data removed]",
      "text/plain": [
       "<Figure size 864x432 with 1 Axes>"
      ]
     },
     "metadata": {
      "needs_background": "light"
     },
     "output_type": "display_data"
    }
   ],
   "source": [
    "# fitting multiple k-means algorithms and storing the values in an empty list\n",
    "SSE = []\n",
    "for cluster in range(1,20):\n",
    "    kmeans = KMeans(n_jobs = -1, n_clusters = cluster, init='k-means++')\n",
    "    kmeans.fit(data_scaled)\n",
    "    SSE.append(kmeans.inertia_)\n",
    "\n",
    "# converting the results into a dataframe and plotting them\n",
    "frame = pd.DataFrame({'Cluster':range(1,20), 'SSE':SSE})\n",
    "plt.figure(figsize=(12,6))\n",
    "plt.plot(frame['Cluster'], frame['SSE'], marker='o')\n",
    "plt.xlabel('Number of Clusters')\n",
    "plt.ylabel('Inertia')\n",
    "plt.title('Elbow Curve')"
   ]
  },
  {
   "cell_type": "code",
   "execution_count": 44,
   "metadata": {},
   "outputs": [
    {
     "data": {
      "text/html": [
       "<div>\n",
       "<style scoped>\n",
       "    .dataframe tbody tr th:only-of-type {\n",
       "        vertical-align: middle;\n",
       "    }\n",
       "\n",
       "    .dataframe tbody tr th {\n",
       "        vertical-align: top;\n",
       "    }\n",
       "\n",
       "    .dataframe thead th {\n",
       "        text-align: right;\n",
       "    }\n",
       "</style>\n",
       "<table border=\"1\" class=\"dataframe\">\n",
       "  <thead>\n",
       "    <tr style=\"text-align: right;\">\n",
       "      <th></th>\n",
       "      <th>Recency</th>\n",
       "      <th>Frequency</th>\n",
       "      <th>Monetary</th>\n",
       "      <th>cluster</th>\n",
       "    </tr>\n",
       "    <tr>\n",
       "      <th>CustomerID</th>\n",
       "      <th></th>\n",
       "      <th></th>\n",
       "      <th></th>\n",
       "      <th></th>\n",
       "    </tr>\n",
       "  </thead>\n",
       "  <tbody>\n",
       "    <tr>\n",
       "      <th>12747.0</th>\n",
       "      <td>30</td>\n",
       "      <td>17.0</td>\n",
       "      <td>613.82</td>\n",
       "      <td>1</td>\n",
       "    </tr>\n",
       "    <tr>\n",
       "      <th>12748.0</th>\n",
       "      <td>6</td>\n",
       "      <td>337.0</td>\n",
       "      <td>1820.35</td>\n",
       "      <td>2</td>\n",
       "    </tr>\n",
       "    <tr>\n",
       "      <th>12820.0</th>\n",
       "      <td>73</td>\n",
       "      <td>11.0</td>\n",
       "      <td>170.46</td>\n",
       "      <td>0</td>\n",
       "    </tr>\n",
       "    <tr>\n",
       "      <th>12823.0</th>\n",
       "      <td>1</td>\n",
       "      <td>3.0</td>\n",
       "      <td>994.50</td>\n",
       "      <td>1</td>\n",
       "    </tr>\n",
       "    <tr>\n",
       "      <th>12826.0</th>\n",
       "      <td>63</td>\n",
       "      <td>40.0</td>\n",
       "      <td>542.10</td>\n",
       "      <td>0</td>\n",
       "    </tr>\n",
       "  </tbody>\n",
       "</table>\n",
       "</div>"
      ],
      "text/plain": [
       "            Recency  Frequency  Monetary  cluster\n",
       "CustomerID                                       \n",
       "12747.0          30       17.0    613.82        1\n",
       "12748.0           6      337.0   1820.35        2\n",
       "12820.0          73       11.0    170.46        0\n",
       "12823.0           1        3.0    994.50        1\n",
       "12826.0          63       40.0    542.10        0"
      ]
     },
     "execution_count": 44,
     "metadata": {},
     "output_type": "execute_result"
    }
   ],
   "source": [
    "kmeans = KMeans(n_jobs = -1, n_clusters = 4, init='k-means++')\n",
    "kmeans.fit(data_scaled)\n",
    "pred = kmeans.predict(data_scaled)\n",
    "rfm_df['cluster'] = pred\n",
    "rfm_df.head()"
   ]
  },
  {
   "cell_type": "code",
   "execution_count": 45,
   "metadata": {},
   "outputs": [
    {
     "data": {
      "text/plain": [
       "1    934\n",
       "0    568\n",
       "2     96\n",
       "3      9\n",
       "Name: cluster, dtype: int64"
      ]
     },
     "execution_count": 45,
     "metadata": {},
     "output_type": "execute_result"
    }
   ],
   "source": [
    "#Cluster number\n",
    "rfm_df.cluster.value_counts()"
   ]
  },
  {
   "cell_type": "markdown",
   "metadata": {},
   "source": [
    "<b>The cluster value where this decrease in inertia value becomes constant can be chosen as the right cluster value for our data. Looking at the above elbow curve, we can choose any number of clusters between 4 to 6. The number of clusters is set as 5 and fit the model.</b>\n",
    "\n",
    "One must also look at the computation cost while deciding the number of clusters. If a higher number of clusters is selected, the computation cost would increase."
   ]
  },
  {
   "cell_type": "code",
   "execution_count": 46,
   "metadata": {},
   "outputs": [
    {
     "data": {
      "image/png": "[encoded data removed]",
      "text/plain": [
       "<Figure size 432x288 with 1 Axes>"
      ]
     },
     "metadata": {
      "needs_background": "light"
     },
     "output_type": "display_data"
    }
   ],
   "source": [
    "#Recency plot\n",
    "sns.boxplot(rfm_df.cluster,rfm_df.Recency)\n",
    "plt.title('Recency')\n",
    "plt.show()"
   ]
  },
  {
   "cell_type": "code",
   "execution_count": 47,
   "metadata": {},
   "outputs": [
    {
     "data": {
      "image/png": "[encoded data removed]",
      "text/plain": [
       "<Figure size 432x288 with 1 Axes>"
      ]
     },
     "metadata": {
      "needs_background": "light"
     },
     "output_type": "display_data"
    }
   ],
   "source": [
    "sns.boxplot(rfm_df.cluster,rfm_df.Frequency)\n",
    "plt.title('Frequency')\n",
    "plt.show()"
   ]
  },
  {
   "cell_type": "code",
   "execution_count": 48,
   "metadata": {
    "scrolled": true
   },
   "outputs": [
    {
     "data": {
      "image/png": "[encoded data removed]",
      "text/plain": [
       "<Figure size 432x288 with 1 Axes>"
      ]
     },
     "metadata": {
      "needs_background": "light"
     },
     "output_type": "display_data"
    }
   ],
   "source": [
    "sns.boxplot(rfm_df.cluster,rfm_df.Monetary)\n",
    "plt.title('Monetary')\n",
    "plt.show()"
   ]
  },
  {
   "cell_type": "markdown",
   "metadata": {},
   "source": [
    "# Final Conclusion\n",
    "\n",
    "The box plots above show that the customers in Cluster 2 and Cluster 3 are the most recent and frequent customers of the company. However we can see that these clusters account for less than 10 percent of the total number of customers. This project provides a brief example of how cluster analysis can enhance results from RFM analysis. An RFM model can be used in conjunction with certain predictive models such as K-means clustering, Logistic Regression and Recommendation to gain even further insight into customer behavior. \n"
   ]
  },
  {
   "cell_type": "markdown",
   "metadata": {},
   "source": [
    "# Reference \n",
    "\n",
    "1. Aditya,A. (2020, March 20). Predictive Segments using RFM Analysis: An In-Depth Guide. Retrieved July 03, 2020, from https://www.moengage.com/blog/rfm-analysis-using-predictive-segments/\n",
    "2. Yexi Yuan. (2019, Aug 17). Recency, Frequency, Monetary Model with Python — and how Sephora uses it to optimize their Google and Facebook Ads. Retrieved July 03, 2020, from https://towardsdatascience.com/recency-frequency-monetary-model-with-python-and-how-sephora-uses-it-to-optimize-their-google-d6a0707c5f17\n",
    "3. Campbell, A. (2020, July 05). Customer_segmentation. Lecture presented at EARL 2017 in London, London. https://earlconf.com/2017/downloads/london/presentations/EARL2017_-_London_-_Alexander_Campbell_-_Customer_segmentation.pdf\n",
    "4. Pulkit Sharma (2020, April 23). K Means Clustering: K Means Clustering Algorithm in Python. Retrieved July 14, 2020, from https://www.analyticsvidhya.com/blog/2019/08/comprehensive-guide-k-means-clustering/\n",
    "5. Unknown. (2019, February 12). RFM Analysis. Retrieved July 14, 2020, from https://www.kaggle.com/yugagrawal95/rfm-analysis\n"
   ]
  }
 ],
 "metadata": {
  "kernelspec": {
   "display_name": "Python 3",
   "language": "python",
   "name": "python3"
  },
  "language_info": {
   "codemirror_mode": {
    "name": "ipython",
    "version": 3
   },
   "file_extension": ".py",
   "mimetype": "text/x-python",
   "name": "python",
   "nbconvert_exporter": "python",
   "pygments_lexer": "ipython3",
   "version": "3.7.7"
  }
 },
 "nbformat": 4,
 "nbformat_minor": 4
}
